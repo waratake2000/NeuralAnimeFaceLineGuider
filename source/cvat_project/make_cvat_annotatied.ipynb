{
 "cells": [
  {
   "cell_type": "code",
   "execution_count": null,
   "metadata": {},
   "outputs": [],
   "source": [
    "# 該当するjsonlistファイル\n",
    "# 該当するアノテーションデータの読み込み\n",
    "\n",
    "json_path = \"/root/source/cvat_project/data/manifest.jsonl\"\n",
    "annotation_data_path = \"/root/dataset/SD_generated_dataset_checked/radiantLightV2_1/annotations/annotations.csv\"\n",
    "\n",
    "import json\n",
    "\n",
    "def read_jsonl(file_path):\n",
    "    data = []\n",
    "    with open(file_path, 'r') as f:\n",
    "        for line in f:\n",
    "            data.append(json.loads(line))\n",
    "    return data\n",
    "\n",
    "json_path = \"/root/source/cvat_project/radiantLightV2_1/data/manifest.jsonl\"\n",
    "image_list = read_jsonl(json_path)\n",
    "\n",
    "# 画像ファイルの名前のリスト\n",
    "images_list = [name[\"name\"] for name in image_list[2:]]\n",
    "images_list[:3]"
   ]
  },
  {
   "cell_type": "code",
   "execution_count": null,
   "metadata": {},
   "outputs": [],
   "source": [
    "def output_one_element_data(landmark_x,landmark_y,label_num):\n",
    "    element = {\n",
    "        \"type\": \"points\",\n",
    "        \"occluded\": False,\n",
    "        \"outside\": False,\n",
    "        \"z_order\": 0,\n",
    "        \"rotation\": 0.0,\n",
    "        \"points\": [\n",
    "            landmark_x,\n",
    "            landmark_y\n",
    "        ],\n",
    "        \"frame\": 0,\n",
    "        \"group\": 0,\n",
    "        \"source\": \"manual\",\n",
    "        \"attributes\": [],\n",
    "        \"label\": f\"{label_num}\"\n",
    "    }\n",
    "    return element"
   ]
  },
  {
   "cell_type": "code",
   "execution_count": null,
   "metadata": {},
   "outputs": [],
   "source": [
    "import pandas as pd\n",
    "image_num = 0\n",
    "\n",
    "# CSVの読み込みとリスト化\n",
    "annotated_data = pd.read_csv(annotation_data_path).values.tolist()\n",
    "x = annotated_data[image_num][3::2]\n",
    "y = annotated_data[image_num][4::2]\n",
    "\n",
    "landmark_num = 98"
   ]
  },
  {
   "cell_type": "code",
   "execution_count": null,
   "metadata": {},
   "outputs": [],
   "source": [
    "# contoursのとき\n",
    "contours_elements= []\n",
    "for num in range(0,33):\n",
    "    element_data = output_one_element_data(x[num],y[num],num+1)\n",
    "    contours_elements.append(element_data)\n",
    "contours_elements"
   ]
  },
  {
   "cell_type": "code",
   "execution_count": null,
   "metadata": {},
   "outputs": [],
   "source": [
    "# eyebrow右のとき\n",
    "contours_elements= []\n",
    "for num in range(33,38):\n",
    "    element_data = output_one_element_data(x[num],y[num],num+-32)\n",
    "    contours_elements.append(element_data)\n",
    "contours_elements"
   ]
  },
  {
   "cell_type": "code",
   "execution_count": null,
   "metadata": {},
   "outputs": [],
   "source": [
    "# eyebrow左のとき\n",
    "contours_elements= []\n",
    "for num in range(33,38):\n",
    "    element_data = output_one_element_data(x[num],y[num],num+-36)\n",
    "    contours_elements.append(element_data)\n",
    "contours_elements"
   ]
  },
  {
   "cell_type": "code",
   "execution_count": null,
   "metadata": {},
   "outputs": [],
   "source": [
    "# noseのとき\n",
    "contours_elements= []\n",
    "for num in range(51,60):\n",
    "    # print(num-50)\n",
    "    element_data = output_one_element_data(x[num],y[num],num+-50)\n",
    "    contours_elements.append(element_data)\n",
    "contours_elements"
   ]
  },
  {
   "cell_type": "code",
   "execution_count": null,
   "metadata": {},
   "outputs": [],
   "source": [
    "# mouseのとき\n",
    "contours_elements= []\n",
    "for num in range(88,96):\n",
    "    # print(num-87)\n",
    "    element_data = output_one_element_data(x[num],y[num],num+-87)\n",
    "    contours_elements.append(element_data)\n",
    "contours_elements"
   ]
  },
  {
   "cell_type": "code",
   "execution_count": null,
   "metadata": {},
   "outputs": [],
   "source": []
  },
  {
   "cell_type": "code",
   "execution_count": null,
   "metadata": {},
   "outputs": [],
   "source": [
    "contours_elements =[]"
   ]
  },
  {
   "cell_type": "code",
   "execution_count": null,
   "metadata": {},
   "outputs": [],
   "source": [
    "face_parts = [\"contours\",\"nose\",\"mouse\",\"eye\",\"eyebrow\"]"
   ]
  },
  {
   "cell_type": "code",
   "execution_count": null,
   "metadata": {},
   "outputs": [],
   "source": [
    "for part in face_parts:\n",
    "    face_annotated_json = {\n",
    "        \"type\": \"skeleton\",\n",
    "        \"occluded\": False,\n",
    "        \"outside\": False,\n",
    "        \"z_order\": 0,\n",
    "        \"rotation\": 0.0,\n",
    "        \"points\": [],\n",
    "        \"frame\": 0,\n",
    "        \"group\": 0,\n",
    "        \"source\": \"manual\",\n",
    "        \"attributes\": [],\n",
    "        \"elements\": [],\n",
    "        \"label\": f\"{part}\"\n",
    "    }\n",
    "    print(face_annotated_json)"
   ]
  },
  {
   "cell_type": "code",
   "execution_count": null,
   "metadata": {},
   "outputs": [],
   "source": [
    "annotations_json = [\n",
    "    {\n",
    "        \"version\": 0,\n",
    "        \"tags\": [],\n",
    "        \"shapes\": [],\n",
    "        \"tracks\": []\n",
    "    }\n",
    "]"
   ]
  }
 ],
 "metadata": {
  "kernelspec": {
   "display_name": "Python 3",
   "language": "python",
   "name": "python3"
  },
  "language_info": {
   "codemirror_mode": {
    "name": "ipython",
    "version": 3
   },
   "file_extension": ".py",
   "mimetype": "text/x-python",
   "name": "python",
   "nbconvert_exporter": "python",
   "pygments_lexer": "ipython3",
   "version": "3.8.10"
  },
  "orig_nbformat": 4
 },
 "nbformat": 4,
 "nbformat_minor": 2
}
