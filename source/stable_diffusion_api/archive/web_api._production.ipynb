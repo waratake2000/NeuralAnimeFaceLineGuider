{
 "cells": [
  {
   "cell_type": "code",
   "execution_count": null,
   "metadata": {},
   "outputs": [],
   "source": [
    "import webuiapi # pip install webuiapi\n",
    "from PIL import Image\n",
    "import cv2\n",
    "\n",
    "img = cv2.imread('test.png')\n",
    "pil_image = Image.fromarray(img)\n",
    "\n",
    "api = webuiapi.WebUIApi(host='10.8.76.222', port=7860)\n",
    "unit1 = webuiapi.ControlNetUnit(input_image=pil_image, module='openpose_faceonly', model='control_v11p_sd15_openpose [cab727d4]')\n",
    "r = api.txt2img(prompt=\"anime face\")\n"
   ]
  }
 ],
 "metadata": {
  "kernelspec": {
   "display_name": "Python 3",
   "language": "python",
   "name": "python3"
  },
  "language_info": {
   "codemirror_mode": {
    "name": "ipython",
    "version": 3
   },
   "file_extension": ".py",
   "mimetype": "text/x-python",
   "name": "python",
   "nbconvert_exporter": "python",
   "pygments_lexer": "ipython3",
   "version": "3.8.10"
  },
  "orig_nbformat": 4
 },
 "nbformat": 4,
 "nbformat_minor": 2
}
