{
 "cells": [
  {
   "cell_type": "code",
   "execution_count": 9,
   "metadata": {},
   "outputs": [
    {
     "name": "stdout",
     "output_type": "stream",
     "text": [
      "Training sample instances: 856\n",
      "Validation sample instances: 17\n",
      "39\n",
      "37\n",
      "35\n",
      "33\n",
      "31\n",
      "29\n",
      "27\n",
      "25\n",
      "23\n",
      "21\n",
      "19\n",
      "17\n",
      "15\n",
      "13\n",
      "11\n",
      "9\n",
      "7\n",
      "5\n",
      "3\n",
      "1\n"
     ]
    }
   ],
   "source": [
    "import subprocess\n",
    "from load_dataset import train_test_split\n",
    "import config\n",
    "\n",
    "# 約数を出力する関数\n",
    "def division_patterns(num):\n",
    "    remainder_list = []\n",
    "    for i in range(1, num + 1):\n",
    "        quotient, _ = divmod(num, i)\n",
    "        remainder_list.append(quotient)\n",
    "    remainder_list_sorted = sorted(set(remainder_list), reverse=True)\n",
    "    return remainder_list_sorted\n",
    "\n",
    "training_samples, _ = train_test_split(str(config.ANNOTATION_DATA),config.TEST_SPLIT)\n",
    "training_data_coutns = len(training_samples)\n",
    "train_data_len_divisors = division_patterns(int(training_data_coutns * data_aug_factor))\n",
    "\n",
    "data_aug_factor = 5\n",
    "for batch_size in train_data_len_divisors[90::2]:\n",
    "    print(batch_size)"
   ]
  }
 ],
 "metadata": {
  "kernelspec": {
   "display_name": "Python 3",
   "language": "python",
   "name": "python3"
  },
  "language_info": {
   "codemirror_mode": {
    "name": "ipython",
    "version": 3
   },
   "file_extension": ".py",
   "mimetype": "text/x-python",
   "name": "python",
   "nbconvert_exporter": "python",
   "pygments_lexer": "ipython3",
   "version": "3.8.10"
  },
  "orig_nbformat": 4
 },
 "nbformat": 4,
 "nbformat_minor": 2
}
