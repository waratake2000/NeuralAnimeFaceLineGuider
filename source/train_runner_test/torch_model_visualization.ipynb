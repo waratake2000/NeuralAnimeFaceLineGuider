{
 "cells": [
  {
   "cell_type": "code",
   "execution_count": 2,
   "metadata": {},
   "outputs": [
    {
     "data": {
      "text/plain": [
       "'NeuralNet.png'"
      ]
     },
     "execution_count": 2,
     "metadata": {},
     "output_type": "execute_result"
    }
   ],
   "source": [
    "import torch\n",
    "\n",
    "from torchviz import make_dot\n",
    "from models.deepCNN import LandmarkDetector\n",
    "\n",
    "INPUT_SIZE = 196*196\n",
    "\n",
    "model = LandmarkDetector()\n",
    "data = torch.randn(3,3,196,196)\n",
    "\n",
    "y = model(data)\n",
    "\n",
    "image = make_dot(y, params=dict(model.named_parameters()))\n",
    "image.format = \"png\"\n",
    "image.render(\"NeuralNet\")"
   ]
  },
  {
   "cell_type": "code",
   "execution_count": null,
   "metadata": {},
   "outputs": [],
   "source": [
    "model = Net()\n",
    "\n",
    "# 適当な入力\n",
    "x = torch.randn(1, 28*28)\n",
    "# 出力\n",
    "y = model(x)\n",
    "\n",
    "# 計算グラフを表示\n",
    "img = make_dot(y, params=dict(model.named_parameters()))\n",
    "display(img)"
   ]
  }
 ],
 "metadata": {
  "kernelspec": {
   "display_name": "Python 3",
   "language": "python",
   "name": "python3"
  },
  "language_info": {
   "codemirror_mode": {
    "name": "ipython",
    "version": 3
   },
   "file_extension": ".py",
   "mimetype": "text/x-python",
   "name": "python",
   "nbconvert_exporter": "python",
   "pygments_lexer": "ipython3",
   "version": "3.8.10"
  },
  "orig_nbformat": 4
 },
 "nbformat": 4,
 "nbformat_minor": 2
}
