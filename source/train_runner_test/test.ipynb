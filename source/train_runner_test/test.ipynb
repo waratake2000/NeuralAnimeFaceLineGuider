{
 "cells": [
  {
   "cell_type": "code",
   "execution_count": null,
   "metadata": {},
   "outputs": [],
   "source": [
    "import GPUtil as GPU\n",
    "import psutil\n",
    "\n",
    "gpu = GPU.getGPUs()[0]\n",
    "mem_info = psutil.virtual_memory()\n",
    "used_gpu_memory = str(gpu.memoryUsed)\n",
    "free_gpu_memory = str(gpu.memoryFree)\n",
    "memory_percentage = str(mem_info.percent)"
   ]
  }
 ],
 "metadata": {
  "kernelspec": {
   "display_name": "Python 3",
   "language": "python",
   "name": "python3"
  },
  "language_info": {
   "name": "python",
   "version": "3.8.10"
  },
  "orig_nbformat": 4
 },
 "nbformat": 4,
 "nbformat_minor": 2
}
