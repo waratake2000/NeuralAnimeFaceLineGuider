{
 "cells": [
  {
   "cell_type": "code",
   "execution_count": 2,
   "metadata": {},
   "outputs": [],
   "source": [
    "import json\n",
    "\n",
    "annotation_coco = \"/root/dataset/anime_face_landmark_20230912/annotations/person_keypoints_Train.json\"\n",
    "with open(annotation_coco) as f:\n",
    "    loader = json.load(f)\n",
    "\n",
    "dataset_list = []\n",
    "for image_metadata in loader[\"images\"]:\n",
    "    one_aanotation_data = [image_metadata[\"file_name\"]]    \n",
    "    data_id = int(image_metadata[\"id\"])\n",
    "    for anotation_data in loader[\"annotations\"]:\n",
    "        if anotation_data['image_id'] == data_id:\n",
    "            keypoints_annotation = [keypoint for keypoint in anotation_data[\"keypoints\"] if not keypoint == float(2)]            \n",
    "            one_aanotation_data += keypoints_annotation\n",
    "            dataset_list.append(one_aanotation_data)"
   ]
  }
 ],
 "metadata": {
  "kernelspec": {
   "display_name": "Python 3",
   "language": "python",
   "name": "python3"
  },
  "language_info": {
   "codemirror_mode": {
    "name": "ipython",
    "version": 3
   },
   "file_extension": ".py",
   "mimetype": "text/x-python",
   "name": "python",
   "nbconvert_exporter": "python",
   "pygments_lexer": "ipython3",
   "version": "3.8.10"
  },
  "orig_nbformat": 4
 },
 "nbformat": 4,
 "nbformat_minor": 2
}
