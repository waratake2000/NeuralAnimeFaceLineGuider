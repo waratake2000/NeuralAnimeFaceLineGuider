{
 "cells": [
  {
   "cell_type": "code",
   "execution_count": 1,
   "metadata": {},
   "outputs": [
    {
     "name": "stderr",
     "output_type": "stream",
     "text": [
      "/usr/local/lib/python3.8/dist-packages/tqdm/auto.py:21: TqdmWarning: IProgress not found. Please update jupyter and ipywidgets. See https://ipywidgets.readthedocs.io/en/stable/user_install.html\n",
      "  from .autonotebook import tqdm as notebook_tqdm\n"
     ]
    },
    {
     "name": "stdout",
     "output_type": "stream",
     "text": [
      "Training sample instances: 302\n",
      "Validation sample instances: 15\n",
      "オリジナル画像\n"
     ]
    }
   ],
   "source": [
    "import json\n",
    "import pandas as pd\n",
    "import source.train_runner_production.load_dataset as load_dataset\n",
    "import cv2\n",
    "import numpy as np\n",
    "import matplotlib.pyplot as plt\n",
    "\n",
    "\n",
    "import imgaug as ia\n",
    "import imgaug.augmenters as iaa\n",
    "from imgaug.augmentables import Keypoint, KeypointsOnImage\n",
    "\n",
    "import torch\n",
    "from torch.utils.data import Dataset, DataLoader\n",
    "\n",
    "annotation_coco_path = \"/root/dataset/anime_face_landmark_20230912/annotations/person_keypoints_Train.json\"\n",
    "data_path = \"/root/dataset/anime_face_landmark_20230912/images\"\n",
    "dataset_list = load_dataset.cocokeypoints_list_converter(annotation_coco_path)\n",
    "training_samples, valid_samples = load_dataset.train_test_split(dataset_list,0.05)\n",
    "train_numpy_dataset = load_dataset.AugmentFaceKeypointDataset(training_samples,data_path,10)"
   ]
  },
  {
   "cell_type": "code",
   "execution_count": 12,
   "metadata": {},
   "outputs": [
    {
     "name": "stdout",
     "output_type": "stream",
     "text": [
      "オリジナル画像\n",
      "len(data_set_list) 30\n"
     ]
    }
   ],
   "source": [
    "from augument_setting import augmentation_list\n",
    "\n",
    "data_path = \"/root/dataset/anime_face_landmark_20230912/images\"\n",
    "aug_data_num = 30\n",
    "mix_augmentent = (3,5)\n",
    "data_set_list = []\n",
    "# data_num = 1\n",
    "for data_num in range(training_samples[0:1].shape[0]):\n",
    "    image = cv2.imread(f\"{data_path}/{training_samples.iloc[data_num, 0]}\")\n",
    "    image_orig = cv2.cvtColor(image, cv2.COLOR_BGR2RGB)\n",
    "    orig_h, orig_w, _ =  image_orig.shape\n",
    "    # サイズ変更\n",
    "    image = cv2.resize(image_orig, (512, 512))\n",
    "    \n",
    "    keypoints = training_samples.iloc[data_num][1:]\n",
    "    keypoints = np.array(keypoints, dtype=\"float32\")\n",
    "    keypoints = keypoints.reshape(-1, 2)\n",
    "    keypoints_per = keypoints * [1 / (orig_w), 1 / (orig_h)]\n",
    "    data_set_list.append([image, keypoints_per])\n",
    "    \n",
    "    print(\"オリジナル画像\")\n",
    "    if aug_data_num == 0:\n",
    "        continue\n",
    "\n",
    "    landmark_num = len(keypoints)\n",
    "    kps = KeypointsOnImage(\n",
    "        [Keypoint(x=keypoints[i][0], y=keypoints[i][1]) for i in range(0,landmark_num)],\n",
    "        shape=image.shape,\n",
    "    )\n",
    "    \n",
    "    seq = iaa.SomeOf(mix_augmentent, [\n",
    "        iaa.Add((-40, 40), per_channel=0.5),\n",
    "        iaa.AdditiveGaussianNoise(scale=(0, 0.2*255)),\n",
    "        iaa.Cutout(nb_iterations=(10, 70),size=0.05,cval=(0, 255),fill_per_channel=0.5),\n",
    "        iaa.JpegCompression(compression=(80, 99)),\n",
    "        iaa.BlendAlpha([0.25, 0.75], iaa.MedianBlur(13)),\n",
    "\n",
    "        iaa.Grayscale(alpha=(0.5, 1.0)),\n",
    "        iaa.LogContrast(gain=(0.6, 1.4), per_channel=True),\n",
    "        iaa.Affine(scale={\"x\": (0.7, 1.1), \"y\": (0.7, 1.1)}),\n",
    "        iaa.Affine(rotate=(-45, 45)),\n",
    "        \n",
    "        iaa.Affine(translate_percent={\"x\": -0.20}, mode=ia.ALL, cval=(0, 255)),\n",
    "        iaa.ShearX((-20, 20)),\n",
    "        iaa.ShearY((-20, 20)),\n",
    "        iaa.PiecewiseAffine(scale=(0.03, 0.03)),\n",
    "        iaa.imgcorruptlike.Spatter(severity=2),\n",
    "        iaa.Superpixels(p_replace=0.1, n_segments=100)\n",
    "    ],random_order=True)\n",
    "\n",
    "    for aug_count in range(aug_data_num-1):\n",
    "        image_aug, kps_aug = seq(image=image, keypoints=kps)\n",
    "        keypoints = []\n",
    "        for i in range(len(kps.keypoints)):\n",
    "            before = kps.keypoints[i]\n",
    "            after = kps_aug.keypoints[i]\n",
    "            keypoints.append([after.x, after.y])\n",
    "        keypoints = np.array(keypoints, dtype=\"float32\")\n",
    "        keypoints_per = keypoints * [1 / (orig_w), 1 / (orig_h)]\n",
    "        image_after = kps_aug.draw_on_image(image_aug, size=0)\n",
    "\n",
    "        # データ拡張を行った画像をリストに格納する\n",
    "        data_set_list.append([image_after, keypoints_per])\n",
    "\n",
    "        # 描画\n",
    "        \n",
    "        \n",
    "        # plt.imshow(image_after)\n",
    "        # plt.scatter(keypoints[:,0], keypoints[:,1], color='r',s=2)\n",
    "        # plt.show()\n",
    "print(\"len(data_set_list)\",len(data_set_list))\n",
    "data_set_list"
   ]
  },
  {
   "cell_type": "code",
   "execution_count": null,
   "metadata": {},
   "outputs": [],
   "source": [
    "import pandas as pd\n",
    "from PIL import Image\n",
    "import matplotlib.pyplot as plt\n",
    "import numpy as np\n",
    "\n",
    "dataset_dir = \"/root/dataset/anime_face_landmark_20230912\"\n",
    "\n",
    "for data in dataset_list[-5:-1]:\n",
    "    fig, ax = plt.subplots(1)\n",
    "    print(data[0])\n",
    "    img = Image.open(f\"{dataset_dir}/images/{data[0]}\")\n",
    "\n",
    "    x_np = np.array(data[1::2])\n",
    "    y_np = np.array(data[2::2])\n",
    "    plt.plot(x_np, y_np,\"o\",color='red',markersize=3)\n",
    "    \n",
    "    \n",
    "    \n",
    "    ax.imshow(img)\n",
    "    plt.show()"
   ]
  }
 ],
 "metadata": {
  "kernelspec": {
   "display_name": "Python 3",
   "language": "python",
   "name": "python3"
  },
  "language_info": {
   "codemirror_mode": {
    "name": "ipython",
    "version": 3
   },
   "file_extension": ".py",
   "mimetype": "text/x-python",
   "name": "python",
   "nbconvert_exporter": "python",
   "pygments_lexer": "ipython3",
   "version": "3.8.10"
  },
  "orig_nbformat": 4
 },
 "nbformat": 4,
 "nbformat_minor": 2
}
