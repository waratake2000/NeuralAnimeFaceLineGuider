{
 "cells": [
  {
   "cell_type": "code",
   "execution_count": 1,
   "metadata": {},
   "outputs": [
    {
     "name": "stderr",
     "output_type": "stream",
     "text": [
      "/usr/local/lib/python3.8/dist-packages/tqdm/auto.py:21: TqdmWarning: IProgress not found. Please update jupyter and ipywidgets. See https://ipywidgets.readthedocs.io/en/stable/user_install.html\n",
      "  from .autonotebook import tqdm as notebook_tqdm\n"
     ]
    },
    {
     "name": "stdout",
     "output_type": "stream",
     "text": [
      "Training sample instances: 302\n",
      "Validation sample instances: 15\n"
     ]
    }
   ],
   "source": [
    "import json\n",
    "import pandas as pd\n",
    "import load_dataset\n",
    "import cv2\n",
    "import numpy as np\n",
    "import matplotlib.pyplot as plt\n",
    "\n",
    "\n",
    "import imgaug as ia\n",
    "import imgaug.augmenters as iaa\n",
    "from imgaug.augmentables import Keypoint, KeypointsOnImage\n",
    "\n",
    "import torch\n",
    "from torch.utils.data import Dataset, DataLoader\n",
    "\n",
    "annotation_coco_path = \"/root/dataset/anime_face_landmark_20230912/annotations/person_keypoints_Train.json\"\n",
    "\n",
    "dataset_list = load_dataset.cocokeypoints_list_converter(annotation_coco_path)\n",
    "training_samples, valid_samples = load_dataset.train_test_split(dataset_list,0.05)"
   ]
  },
  {
   "cell_type": "code",
   "execution_count": 2,
   "metadata": {},
   "outputs": [
    {
     "name": "stdout",
     "output_type": "stream",
     "text": [
      "オリジナル画像\n"
     ]
    },
    {
     "name": "stderr",
     "output_type": "stream",
     "text": [
      "/usr/local/lib/python3.8/dist-packages/imgaug/augmenters/meta.py:3368: FutureWarning: In the future `np.bool` will be defined as the corresponding NumPy scalar.\n",
      "  augmenter_active = np.zeros((nb_rows, len(self)), dtype=np.bool)\n"
     ]
    },
    {
     "ename": "AttributeError",
     "evalue": "module 'numpy' has no attribute 'bool'.\n`np.bool` was a deprecated alias for the builtin `bool`. To avoid this error in existing code, use `bool` by itself. Doing this will not modify any behavior and is safe. If you specifically wanted the numpy scalar type, use `np.bool_` here.\nThe aliases was originally deprecated in NumPy 1.20; for more details and guidance see the original release note at:\n    https://numpy.org/devdocs/release/1.20.0-notes.html#deprecations",
     "output_type": "error",
     "traceback": [
      "\u001b[0;31m---------------------------------------------------------------------------\u001b[0m",
      "\u001b[0;31mAttributeError\u001b[0m                            Traceback (most recent call last)",
      "\u001b[1;32m/root/source/load_coco_keypoints/cocokeypoints_df_viewer.ipynb Cell 2\u001b[0m line \u001b[0;36m5\n\u001b[1;32m     <a href='vscode-notebook-cell://attached-container%2B7b22636f6e7461696e65724e616d65223a222f6e657572616c616e696d65666163656c696e656775696465722d6e76696469615f646f636b65722d31222c2273657474696e6773223a7b22686f7374223a227373683a2f2f6e69746465765f6c6f63616c227d7d/root/source/load_coco_keypoints/cocokeypoints_df_viewer.ipynb#W1sdnNjb2RlLXJlbW90ZQ%3D%3D?line=34'>35</a>\u001b[0m seq \u001b[39m=\u001b[39m iaa\u001b[39m.\u001b[39mSomeOf(\u001b[39m2\u001b[39m, [\n\u001b[1;32m     <a href='vscode-notebook-cell://attached-container%2B7b22636f6e7461696e65724e616d65223a222f6e657572616c616e696d65666163656c696e656775696465722d6e76696469615f646f636b65722d31222c2273657474696e6773223a7b22686f7374223a227373683a2f2f6e69746465765f6c6f63616c227d7d/root/source/load_coco_keypoints/cocokeypoints_df_viewer.ipynb#W1sdnNjb2RlLXJlbW90ZQ%3D%3D?line=35'>36</a>\u001b[0m     iaa\u001b[39m.\u001b[39mAdd((\u001b[39m-\u001b[39m\u001b[39m40\u001b[39m, \u001b[39m40\u001b[39m), per_channel\u001b[39m=\u001b[39m\u001b[39m0.5\u001b[39m),\n\u001b[1;32m     <a href='vscode-notebook-cell://attached-container%2B7b22636f6e7461696e65724e616d65223a222f6e657572616c616e696d65666163656c696e656775696465722d6e76696469615f646f636b65722d31222c2273657474696e6773223a7b22686f7374223a227373683a2f2f6e69746465765f6c6f63616c227d7d/root/source/load_coco_keypoints/cocokeypoints_df_viewer.ipynb#W1sdnNjb2RlLXJlbW90ZQ%3D%3D?line=36'>37</a>\u001b[0m     iaa\u001b[39m.\u001b[39mAdditiveGaussianNoise(scale\u001b[39m=\u001b[39m(\u001b[39m0\u001b[39m, \u001b[39m0.2\u001b[39m\u001b[39m*\u001b[39m\u001b[39m255\u001b[39m)),\n\u001b[0;32m   (...)\u001b[0m\n\u001b[1;32m     <a href='vscode-notebook-cell://attached-container%2B7b22636f6e7461696e65724e616d65223a222f6e657572616c616e696d65666163656c696e656775696465722d6e76696469615f646f636b65722d31222c2273657474696e6773223a7b22686f7374223a227373683a2f2f6e69746465765f6c6f63616c227d7d/root/source/load_coco_keypoints/cocokeypoints_df_viewer.ipynb#W1sdnNjb2RlLXJlbW90ZQ%3D%3D?line=50'>51</a>\u001b[0m     iaa\u001b[39m.\u001b[39mSuperpixels(p_replace\u001b[39m=\u001b[39m\u001b[39m0.1\u001b[39m, n_segments\u001b[39m=\u001b[39m\u001b[39m100\u001b[39m)\n\u001b[1;32m     <a href='vscode-notebook-cell://attached-container%2B7b22636f6e7461696e65724e616d65223a222f6e657572616c616e696d65666163656c696e656775696465722d6e76696469615f646f636b65722d31222c2273657474696e6773223a7b22686f7374223a227373683a2f2f6e69746465765f6c6f63616c227d7d/root/source/load_coco_keypoints/cocokeypoints_df_viewer.ipynb#W1sdnNjb2RlLXJlbW90ZQ%3D%3D?line=51'>52</a>\u001b[0m ])\n\u001b[1;32m     <a href='vscode-notebook-cell://attached-container%2B7b22636f6e7461696e65724e616d65223a222f6e657572616c616e696d65666163656c696e656775696465722d6e76696469615f646f636b65722d31222c2273657474696e6773223a7b22686f7374223a227373683a2f2f6e69746465765f6c6f63616c227d7d/root/source/load_coco_keypoints/cocokeypoints_df_viewer.ipynb#W1sdnNjb2RlLXJlbW90ZQ%3D%3D?line=53'>54</a>\u001b[0m \u001b[39mfor\u001b[39;00m aug_count \u001b[39min\u001b[39;00m \u001b[39mrange\u001b[39m(aug_data_num\u001b[39m-\u001b[39m\u001b[39m1\u001b[39m):\n\u001b[0;32m---> <a href='vscode-notebook-cell://attached-container%2B7b22636f6e7461696e65724e616d65223a222f6e657572616c616e696d65666163656c696e656775696465722d6e76696469615f646f636b65722d31222c2273657474696e6773223a7b22686f7374223a227373683a2f2f6e69746465765f6c6f63616c227d7d/root/source/load_coco_keypoints/cocokeypoints_df_viewer.ipynb#W1sdnNjb2RlLXJlbW90ZQ%3D%3D?line=54'>55</a>\u001b[0m     image_aug, kps_aug \u001b[39m=\u001b[39m seq(image\u001b[39m=\u001b[39;49mimage, keypoints\u001b[39m=\u001b[39;49mkps)\n\u001b[1;32m     <a href='vscode-notebook-cell://attached-container%2B7b22636f6e7461696e65724e616d65223a222f6e657572616c616e696d65666163656c696e656775696465722d6e76696469615f646f636b65722d31222c2273657474696e6773223a7b22686f7374223a227373683a2f2f6e69746465765f6c6f63616c227d7d/root/source/load_coco_keypoints/cocokeypoints_df_viewer.ipynb#W1sdnNjb2RlLXJlbW90ZQ%3D%3D?line=55'>56</a>\u001b[0m     keypoints \u001b[39m=\u001b[39m []\n\u001b[1;32m     <a href='vscode-notebook-cell://attached-container%2B7b22636f6e7461696e65724e616d65223a222f6e657572616c616e696d65666163656c696e656775696465722d6e76696469615f646f636b65722d31222c2273657474696e6773223a7b22686f7374223a227373683a2f2f6e69746465765f6c6f63616c227d7d/root/source/load_coco_keypoints/cocokeypoints_df_viewer.ipynb#W1sdnNjb2RlLXJlbW90ZQ%3D%3D?line=56'>57</a>\u001b[0m     \u001b[39mfor\u001b[39;00m i \u001b[39min\u001b[39;00m \u001b[39mrange\u001b[39m(\u001b[39mlen\u001b[39m(kps\u001b[39m.\u001b[39mkeypoints)):\n",
      "File \u001b[0;32m/usr/local/lib/python3.8/dist-packages/imgaug/augmenters/meta.py:2008\u001b[0m, in \u001b[0;36mAugmenter.__call__\u001b[0;34m(self, *args, **kwargs)\u001b[0m\n\u001b[1;32m   2006\u001b[0m \u001b[39mdef\u001b[39;00m \u001b[39m__call__\u001b[39m(\u001b[39mself\u001b[39m, \u001b[39m*\u001b[39margs, \u001b[39m*\u001b[39m\u001b[39m*\u001b[39mkwargs):\n\u001b[1;32m   2007\u001b[0m \u001b[39m    \u001b[39m\u001b[39m\"\"\"Alias for :func:`~imgaug.augmenters.meta.Augmenter.augment`.\"\"\"\u001b[39;00m\n\u001b[0;32m-> 2008\u001b[0m     \u001b[39mreturn\u001b[39;00m \u001b[39mself\u001b[39;49m\u001b[39m.\u001b[39;49maugment(\u001b[39m*\u001b[39;49margs, \u001b[39m*\u001b[39;49m\u001b[39m*\u001b[39;49mkwargs)\n",
      "File \u001b[0;32m/usr/local/lib/python3.8/dist-packages/imgaug/augmenters/meta.py:1979\u001b[0m, in \u001b[0;36mAugmenter.augment\u001b[0;34m(self, return_batch, hooks, **kwargs)\u001b[0m\n\u001b[1;32m   1968\u001b[0m \u001b[39m# augment batch\u001b[39;00m\n\u001b[1;32m   1969\u001b[0m batch \u001b[39m=\u001b[39m UnnormalizedBatch(\n\u001b[1;32m   1970\u001b[0m     images\u001b[39m=\u001b[39mimages,\n\u001b[1;32m   1971\u001b[0m     heatmaps\u001b[39m=\u001b[39mkwargs\u001b[39m.\u001b[39mget(\u001b[39m\"\u001b[39m\u001b[39mheatmaps\u001b[39m\u001b[39m\"\u001b[39m, \u001b[39mNone\u001b[39;00m),\n\u001b[0;32m   (...)\u001b[0m\n\u001b[1;32m   1976\u001b[0m     line_strings\u001b[39m=\u001b[39mkwargs\u001b[39m.\u001b[39mget(\u001b[39m\"\u001b[39m\u001b[39mline_strings\u001b[39m\u001b[39m\"\u001b[39m, \u001b[39mNone\u001b[39;00m)\n\u001b[1;32m   1977\u001b[0m )\n\u001b[0;32m-> 1979\u001b[0m batch_aug \u001b[39m=\u001b[39m \u001b[39mself\u001b[39;49m\u001b[39m.\u001b[39;49maugment_batch_(batch, hooks\u001b[39m=\u001b[39;49mhooks)\n\u001b[1;32m   1981\u001b[0m \u001b[39m# return either batch or tuple of augmentables, depending on what\u001b[39;00m\n\u001b[1;32m   1982\u001b[0m \u001b[39m# was requested by user\u001b[39;00m\n\u001b[1;32m   1983\u001b[0m \u001b[39mif\u001b[39;00m return_batch:\n",
      "File \u001b[0;32m/usr/local/lib/python3.8/dist-packages/imgaug/augmenters/meta.py:641\u001b[0m, in \u001b[0;36mAugmenter.augment_batch_\u001b[0;34m(self, batch, parents, hooks)\u001b[0m\n\u001b[1;32m    639\u001b[0m \u001b[39mwith\u001b[39;00m _maybe_deterministic_ctx(\u001b[39mself\u001b[39m):\n\u001b[1;32m    640\u001b[0m     \u001b[39mif\u001b[39;00m \u001b[39mnot\u001b[39;00m batch_inaug\u001b[39m.\u001b[39mempty:\n\u001b[0;32m--> 641\u001b[0m         batch_inaug \u001b[39m=\u001b[39m \u001b[39mself\u001b[39;49m\u001b[39m.\u001b[39;49m_augment_batch_(\n\u001b[1;32m    642\u001b[0m             batch_inaug,\n\u001b[1;32m    643\u001b[0m             random_state\u001b[39m=\u001b[39;49m\u001b[39mself\u001b[39;49m\u001b[39m.\u001b[39;49mrandom_state,\n\u001b[1;32m    644\u001b[0m             parents\u001b[39m=\u001b[39;49mparents \u001b[39mif\u001b[39;49;00m parents \u001b[39mis\u001b[39;49;00m \u001b[39mnot\u001b[39;49;00m \u001b[39mNone\u001b[39;49;00m \u001b[39melse\u001b[39;49;00m [],\n\u001b[1;32m    645\u001b[0m             hooks\u001b[39m=\u001b[39;49mhooks)\n\u001b[1;32m    647\u001b[0m \u001b[39m# revert augmentables being set to None for non-activated augmenters\u001b[39;00m\n\u001b[1;32m    648\u001b[0m \u001b[39mfor\u001b[39;00m column \u001b[39min\u001b[39;00m set_to_none:\n",
      "File \u001b[0;32m/usr/local/lib/python3.8/dist-packages/imgaug/augmenters/meta.py:3395\u001b[0m, in \u001b[0;36mSomeOf._augment_batch_\u001b[0;34m(self, batch, random_state, parents, hooks)\u001b[0m\n\u001b[1;32m   3386\u001b[0m augmenter_order \u001b[39m=\u001b[39m \u001b[39mself\u001b[39m\u001b[39m.\u001b[39m_get_augmenter_order(random_state)\n\u001b[1;32m   3388\u001b[0m \u001b[39m# create an array of active augmenters per image\u001b[39;00m\n\u001b[1;32m   3389\u001b[0m \u001b[39m# e.g.\u001b[39;00m\n\u001b[1;32m   3390\u001b[0m \u001b[39m#  [[0, 0, 1],\u001b[39;00m\n\u001b[0;32m   (...)\u001b[0m\n\u001b[1;32m   3393\u001b[0m \u001b[39m# would signal, that augmenter 3 is active for the first image,\u001b[39;00m\n\u001b[1;32m   3394\u001b[0m \u001b[39m# augmenter 1 and 3 for the 2nd image and augmenter 1 for the 3rd.\u001b[39;00m\n\u001b[0;32m-> 3395\u001b[0m augmenter_active \u001b[39m=\u001b[39m \u001b[39mself\u001b[39;49m\u001b[39m.\u001b[39;49m_get_augmenter_active(batch\u001b[39m.\u001b[39;49mnb_rows,\n\u001b[1;32m   3396\u001b[0m                                               random_state)\n\u001b[1;32m   3398\u001b[0m \u001b[39mfor\u001b[39;00m augmenter_index \u001b[39min\u001b[39;00m augmenter_order:\n\u001b[1;32m   3399\u001b[0m     active \u001b[39m=\u001b[39m augmenter_active[:, augmenter_index]\u001b[39m.\u001b[39mnonzero()[\u001b[39m0\u001b[39m]\n",
      "File \u001b[0;32m/usr/local/lib/python3.8/dist-packages/imgaug/augmenters/meta.py:3368\u001b[0m, in \u001b[0;36mSomeOf._get_augmenter_active\u001b[0;34m(self, nb_rows, random_state)\u001b[0m\n\u001b[1;32m   3366\u001b[0m nn \u001b[39m=\u001b[39m \u001b[39mself\u001b[39m\u001b[39m.\u001b[39m_get_n(nb_rows, random_state)\n\u001b[1;32m   3367\u001b[0m nn \u001b[39m=\u001b[39m [\u001b[39mmin\u001b[39m(n, \u001b[39mlen\u001b[39m(\u001b[39mself\u001b[39m)) \u001b[39mfor\u001b[39;00m n \u001b[39min\u001b[39;00m nn]\n\u001b[0;32m-> 3368\u001b[0m augmenter_active \u001b[39m=\u001b[39m np\u001b[39m.\u001b[39mzeros((nb_rows, \u001b[39mlen\u001b[39m(\u001b[39mself\u001b[39m)), dtype\u001b[39m=\u001b[39mnp\u001b[39m.\u001b[39;49mbool)\n\u001b[1;32m   3369\u001b[0m \u001b[39mfor\u001b[39;00m row_idx, n_true \u001b[39min\u001b[39;00m \u001b[39menumerate\u001b[39m(nn):\n\u001b[1;32m   3370\u001b[0m     \u001b[39mif\u001b[39;00m n_true \u001b[39m>\u001b[39m \u001b[39m0\u001b[39m:\n",
      "File \u001b[0;32m/usr/local/lib/python3.8/dist-packages/numpy/__init__.py:305\u001b[0m, in \u001b[0;36m__getattr__\u001b[0;34m(attr)\u001b[0m\n\u001b[1;32m    300\u001b[0m     warnings\u001b[39m.\u001b[39mwarn(\n\u001b[1;32m    301\u001b[0m         \u001b[39mf\u001b[39m\u001b[39m\"\u001b[39m\u001b[39mIn the future `np.\u001b[39m\u001b[39m{\u001b[39;00mattr\u001b[39m}\u001b[39;00m\u001b[39m` will be defined as the \u001b[39m\u001b[39m\"\u001b[39m\n\u001b[1;32m    302\u001b[0m         \u001b[39m\"\u001b[39m\u001b[39mcorresponding NumPy scalar.\u001b[39m\u001b[39m\"\u001b[39m, \u001b[39mFutureWarning\u001b[39;00m, stacklevel\u001b[39m=\u001b[39m\u001b[39m2\u001b[39m)\n\u001b[1;32m    304\u001b[0m \u001b[39mif\u001b[39;00m attr \u001b[39min\u001b[39;00m __former_attrs__:\n\u001b[0;32m--> 305\u001b[0m     \u001b[39mraise\u001b[39;00m \u001b[39mAttributeError\u001b[39;00m(__former_attrs__[attr])\n\u001b[1;32m    307\u001b[0m \u001b[39m# Importing Tester requires importing all of UnitTest which is not a\u001b[39;00m\n\u001b[1;32m    308\u001b[0m \u001b[39m# cheap import Since it is mainly used in test suits, we lazy import it\u001b[39;00m\n\u001b[1;32m    309\u001b[0m \u001b[39m# here to save on the order of 10 ms of import time for most users\u001b[39;00m\n\u001b[1;32m    310\u001b[0m \u001b[39m#\u001b[39;00m\n\u001b[1;32m    311\u001b[0m \u001b[39m# The previous way Tester was imported also had a side effect of adding\u001b[39;00m\n\u001b[1;32m    312\u001b[0m \u001b[39m# the full `numpy.testing` namespace\u001b[39;00m\n\u001b[1;32m    313\u001b[0m \u001b[39mif\u001b[39;00m attr \u001b[39m==\u001b[39m \u001b[39m'\u001b[39m\u001b[39mtesting\u001b[39m\u001b[39m'\u001b[39m:\n",
      "\u001b[0;31mAttributeError\u001b[0m: module 'numpy' has no attribute 'bool'.\n`np.bool` was a deprecated alias for the builtin `bool`. To avoid this error in existing code, use `bool` by itself. Doing this will not modify any behavior and is safe. If you specifically wanted the numpy scalar type, use `np.bool_` here.\nThe aliases was originally deprecated in NumPy 1.20; for more details and guidance see the original release note at:\n    https://numpy.org/devdocs/release/1.20.0-notes.html#deprecations"
     ]
    }
   ],
   "source": [
    "from augument_setting import augmentation_list\n",
    "\n",
    "data_path = \"/root/dataset/anime_face_landmark_20230912/images\"\n",
    "aug_data_num = 2\n",
    "data_set_list = []\n",
    "# data_num = 1\n",
    "for data_num in range(training_samples[0:10].shape[0]):\n",
    "    image = cv2.imread(f\"{data_path}/{training_samples.iloc[data_num, 0]}\")\n",
    "    image_orig = cv2.cvtColor(image, cv2.COLOR_BGR2RGB)\n",
    "    orig_h, orig_w, _ =  image_orig.shape\n",
    "    # サイズ変更\n",
    "    image = cv2.resize(image_orig, (512, 512))\n",
    "    \n",
    "    keypoints = training_samples.iloc[data_num][1:]\n",
    "    keypoints = np.array(keypoints, dtype=\"float32\")\n",
    "    keypoints = keypoints.reshape(-1, 2)\n",
    "    keypoints_per = keypoints * [1 / (orig_w), 1 / (orig_h)]\n",
    "    data_set_list.append([image, keypoints_per])\n",
    "    \n",
    "    print(\"オリジナル画像\")\n",
    "    # plt.imshow(image_orig)\n",
    "    # plt.scatter(keypoints[:,0], keypoints[:,1], color='r',s=2)\n",
    "    # plt.show()\n",
    "\n",
    "    # データ拡張枚数が0枚の場合はデータ拡張の部分をスキップする\n",
    "    if aug_data_num == 0:\n",
    "        continue\n",
    "\n",
    "    landmark_num = len(keypoints)\n",
    "    kps = KeypointsOnImage(\n",
    "        [Keypoint(x=keypoints[i][0], y=keypoints[i][1]) for i in range(0,landmark_num)],\n",
    "        shape=image.shape,\n",
    "    )    \n",
    "    \n",
    "    seq = iaa.SomeOf(2, [\n",
    "        iaa.Add((-40, 40), per_channel=0.5),\n",
    "        iaa.AdditiveGaussianNoise(scale=(0, 0.2*255)),\n",
    "        iaa.Cutout(nb_iterations=(10, 70),size=0.05,cval=(0, 255),fill_per_channel=0.5),\n",
    "        iaa.JpegCompression(compression=(80, 99)),\n",
    "        iaa.BlendAlpha([0.25, 0.75], iaa.MedianBlur(13)),\n",
    "        iaa.BlendAlphaSimplexNoise(iaa.EdgeDetect(1.0)),\n",
    "        iaa.Grayscale(alpha=(0.5, 1.0)),\n",
    "        iaa.LogContrast(gain=(0.6, 1.4), per_channel=True),\n",
    "        iaa.Affine(scale={\"x\": (0.7, 1.1), \"y\": (0.7, 1.1)}),\n",
    "        iaa.Affine(rotate=(-45, 45)),\n",
    "        iaa.Affine(translate_percent={\"x\": -0.20}, mode=ia.ALL, cval=(0, 255)),\n",
    "        iaa.ShearX((-20, 20)),\n",
    "        iaa.ShearY((-20, 20)),\n",
    "        iaa.PiecewiseAffine(scale=(0.03, 0.03)),\n",
    "        iaa.imgcorruptlike.Spatter(severity=2),\n",
    "        iaa.Superpixels(p_replace=0.1, n_segments=100)\n",
    "    ])\n",
    "\n",
    "    for aug_count in range(aug_data_num-1):\n",
    "        image_aug, kps_aug = seq(image=image, keypoints=kps)\n",
    "        keypoints = []\n",
    "        for i in range(len(kps.keypoints)):\n",
    "            before = kps.keypoints[i]\n",
    "            after = kps_aug.keypoints[i]\n",
    "            keypoints.append([after.x, after.y])\n",
    "        keypoints = np.array(keypoints, dtype=\"float32\")\n",
    "        keypoints_per = keypoints * [1 / (orig_w), 1 / (orig_h)]\n",
    "        image_after = kps_aug.draw_on_image(image_aug, size=0)\n",
    "\n",
    "        # データ拡張を行った画像をリストに格納する\n",
    "        data_set_list.append([image_after, keypoints_per])\n",
    "\n",
    "        # 描画\n",
    "        \n",
    "        \n",
    "        plt.imshow(image_after)\n",
    "        plt.scatter(keypoints[:,0], keypoints[:,1], color='r',s=2)\n",
    "        plt.show()\n",
    "    print(\"len(data_set_list)\",len(data_set_list))"
   ]
  },
  {
   "cell_type": "code",
   "execution_count": null,
   "metadata": {},
   "outputs": [],
   "source": [
    "import pandas as pd\n",
    "from PIL import Image\n",
    "import matplotlib.pyplot as plt\n",
    "import numpy as np\n",
    "\n",
    "dataset_dir = \"/root/dataset/anime_face_landmark_20230912\"\n",
    "\n",
    "for data in dataset_list[-5:-1]:\n",
    "    fig, ax = plt.subplots(1)\n",
    "    print(data[0])\n",
    "    img = Image.open(f\"{dataset_dir}/images/{data[0]}\")\n",
    "\n",
    "    x_np = np.array(data[1::2])\n",
    "    y_np = np.array(data[2::2])\n",
    "    plt.plot(x_np, y_np,\"o\",color='red',markersize=3)\n",
    "    \n",
    "    \n",
    "    \n",
    "    ax.imshow(img)\n",
    "    plt.show()"
   ]
  }
 ],
 "metadata": {
  "kernelspec": {
   "display_name": "Python 3",
   "language": "python",
   "name": "python3"
  },
  "language_info": {
   "codemirror_mode": {
    "name": "ipython",
    "version": 3
   },
   "file_extension": ".py",
   "mimetype": "text/x-python",
   "name": "python",
   "nbconvert_exporter": "python",
   "pygments_lexer": "ipython3",
   "version": "3.8.10"
  },
  "orig_nbformat": 4
 },
 "nbformat": 4,
 "nbformat_minor": 2
}
