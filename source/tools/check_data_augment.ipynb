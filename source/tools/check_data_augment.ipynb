{
 "cells": [
  {
   "cell_type": "code",
   "execution_count": 1,
   "metadata": {},
   "outputs": [
    {
     "name": "stderr",
     "output_type": "stream",
     "text": [
      "/usr/local/lib/python3.8/dist-packages/tqdm/auto.py:21: TqdmWarning: IProgress not found. Please update jupyter and ipywidgets. See https://ipywidgets.readthedocs.io/en/stable/user_install.html\n",
      "  from .autonotebook import tqdm as notebook_tqdm\n"
     ]
    },
    {
     "name": "stdout",
     "output_type": "stream",
     "text": [
      "Training sample instances: 856\n",
      "Validation sample instances: 17\n"
     ]
    },
    {
     "ename": "NameError",
     "evalue": "name 'DATA_AUG_FAC' is not defined",
     "output_type": "error",
     "traceback": [
      "\u001b[0;31m---------------------------------------------------------------------------\u001b[0m",
      "\u001b[0;31mNameError\u001b[0m                                 Traceback (most recent call last)",
      "Cell \u001b[0;32mIn[1], line 13\u001b[0m\n\u001b[1;32m      4\u001b[0m ANNOTATION_DATA \u001b[39m=\u001b[39m \u001b[39m\"\u001b[39m\u001b[39m/root/dataset/Manga109_landmark_annotated/Manga109_annotated.csv\u001b[39m\u001b[39m\"\u001b[39m\n\u001b[1;32m      7\u001b[0m training_samples, valid_samples \u001b[39m=\u001b[39m load_dataset\u001b[39m.\u001b[39mtrain_test_split(\n\u001b[1;32m      8\u001b[0m     \u001b[39mstr\u001b[39m(ANNOTATION_DATA),\n\u001b[1;32m      9\u001b[0m     \u001b[39m0.02\u001b[39m,\n\u001b[1;32m     10\u001b[0m )\n\u001b[1;32m     12\u001b[0m train_numpy_dataset \u001b[39m=\u001b[39m load_dataset\u001b[39m.\u001b[39mAugmentFaceKeypointDataset(\n\u001b[0;32m---> 13\u001b[0m     training_samples, \u001b[39mf\u001b[39m\u001b[39m\"\u001b[39m\u001b[39m{\u001b[39;00mconfig\u001b[39m.\u001b[39mDATASET_PATH\u001b[39m}\u001b[39;00m\u001b[39m/images\u001b[39m\u001b[39m\"\u001b[39m, DATA_AUG_FAC\n\u001b[1;32m     14\u001b[0m )\n",
      "\u001b[0;31mNameError\u001b[0m: name 'DATA_AUG_FAC' is not defined"
     ]
    }
   ],
   "source": [
    "import load_dataset\n",
    "import config\n",
    "\n",
    "training_samples, valid_samples = load_dataset.train_test_split(\n",
    "    str(config.ANNOTATION_DATA),\n",
    "    config.TEST_SPLIT,\n",
    ")\n",
    "\n",
    "train_numpy_dataset = load_dataset.AugmentFaceKeypointDataset(\n",
    "    training_samples, f\"{config.DATASET_PATH}/images\", 1\n",
    ")"
   ]
  }
 ],
 "metadata": {
  "kernelspec": {
   "display_name": "Python 3",
   "language": "python",
   "name": "python3"
  },
  "language_info": {
   "codemirror_mode": {
    "name": "ipython",
    "version": 3
   },
   "file_extension": ".py",
   "mimetype": "text/x-python",
   "name": "python",
   "nbconvert_exporter": "python",
   "pygments_lexer": "ipython3",
   "version": "3.8.10"
  },
  "orig_nbformat": 4
 },
 "nbformat": 4,
 "nbformat_minor": 2
}
