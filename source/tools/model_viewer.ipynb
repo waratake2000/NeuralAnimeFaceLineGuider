{
 "cells": [
  {
   "cell_type": "code",
   "execution_count": 1,
   "metadata": {},
   "outputs": [
    {
     "name": "stderr",
     "output_type": "stream",
     "text": [
      "/usr/local/lib/python3.8/dist-packages/tqdm/auto.py:21: TqdmWarning: IProgress not found. Please update jupyter and ipywidgets. See https://ipywidgets.readthedocs.io/en/stable/user_install.html\n",
      "  from .autonotebook import tqdm as notebook_tqdm\n"
     ]
    },
    {
     "data": {
      "text/plain": [
       "'graph.png'"
      ]
     },
     "execution_count": 1,
     "metadata": {},
     "output_type": "execute_result"
    }
   ],
   "source": [
    "from torchviz import make_dot\n",
    "import torch\n",
    "from deepCNN import LandmarkDetector\n",
    "\n",
    "model = LandmarkDetector()\n",
    "x = torch.randn(3, 3, 192, 192) #ダミー入力\n",
    "y = model(x)\n",
    "\n",
    "dot = make_dot(y, params=dict(model.named_parameters()))\n",
    "dot.attr(rankdir='LR')  # Change the orientation to Left-to-Right ('LR')\n",
    "# dot.view()\n",
    "dot.format = 'png'  # Specify the desired format here.\n",
    "dot.render(filename='graph', directory='./', cleanup=True)  # Render the graph to a file"
   ]
  }
 ],
 "metadata": {
  "kernelspec": {
   "display_name": "Python 3",
   "language": "python",
   "name": "python3"
  },
  "language_info": {
   "codemirror_mode": {
    "name": "ipython",
    "version": 3
   },
   "file_extension": ".py",
   "mimetype": "text/x-python",
   "name": "python",
   "nbconvert_exporter": "python",
   "pygments_lexer": "ipython3",
   "version": "3.8.10"
  },
  "orig_nbformat": 4
 },
 "nbformat": 4,
 "nbformat_minor": 2
}
