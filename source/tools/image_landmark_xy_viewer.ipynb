{
 "cells": [
  {
   "cell_type": "code",
   "execution_count": 2,
   "metadata": {},
   "outputs": [
    {
     "ename": "ModuleNotFoundError",
     "evalue": "No module named 'pandas'",
     "output_type": "error",
     "traceback": [
      "\u001b[0;31m---------------------------------------------------------------------------\u001b[0m",
      "\u001b[0;31mModuleNotFoundError\u001b[0m                       Traceback (most recent call last)",
      "\u001b[1;32m/home/gpudev/Project/NeuralAnimeFaceLineGuider/source/tools/image_landmark_xy_viewer.ipynb Cell 1\u001b[0m line \u001b[0;36m1\n\u001b[0;32m----> <a href='vscode-notebook-cell://ssh-remote%2Bgpudev_vpn/home/gpudev/Project/NeuralAnimeFaceLineGuider/source/tools/image_landmark_xy_viewer.ipynb#W0sdnNjb2RlLXJlbW90ZQ%3D%3D?line=0'>1</a>\u001b[0m \u001b[39mimport\u001b[39;00m \u001b[39mpandas\u001b[39;00m \u001b[39mas\u001b[39;00m \u001b[39mpd\u001b[39;00m\n\u001b[1;32m      <a href='vscode-notebook-cell://ssh-remote%2Bgpudev_vpn/home/gpudev/Project/NeuralAnimeFaceLineGuider/source/tools/image_landmark_xy_viewer.ipynb#W0sdnNjb2RlLXJlbW90ZQ%3D%3D?line=1'>2</a>\u001b[0m \u001b[39mfrom\u001b[39;00m \u001b[39mPIL\u001b[39;00m \u001b[39mimport\u001b[39;00m Image\n\u001b[1;32m      <a href='vscode-notebook-cell://ssh-remote%2Bgpudev_vpn/home/gpudev/Project/NeuralAnimeFaceLineGuider/source/tools/image_landmark_xy_viewer.ipynb#W0sdnNjb2RlLXJlbW90ZQ%3D%3D?line=2'>3</a>\u001b[0m \u001b[39mimport\u001b[39;00m \u001b[39mmatplotlib\u001b[39;00m\u001b[39m.\u001b[39;00m\u001b[39mpyplot\u001b[39;00m \u001b[39mas\u001b[39;00m \u001b[39mplt\u001b[39;00m\n",
      "\u001b[0;31mModuleNotFoundError\u001b[0m: No module named 'pandas'"
     ]
    }
   ],
   "source": [
    "import pandas as pd\n",
    "from PIL import Image\n",
    "import matplotlib.pyplot as plt\n",
    "import numpy as np\n",
    "\n",
    "csv_path = \"/root/dataset/Manga109_landmark_annotated/Manga109_annotated.csv\"\n",
    "dataset_img_path = \"/root/dataset/Manga109_landmark_annotated/images\"\n",
    "data = pd.read_csv(csv_path).values.tolist()"
   ]
  },
  {
   "cell_type": "code",
   "execution_count": null,
   "metadata": {},
   "outputs": [],
   "source": [
    "import pandas as pd\n",
    "from PIL import Image\n",
    "import matplotlib.pyplot as plt\n",
    "import numpy as np\n",
    "\n",
    "csv_path = \"/root/dataset/generated_images_dataset/annotations/annotations.csv\"\n",
    "dataset_img_path = \"/root/dataset/generated_images_dataset/image\"\n",
    "data = pd.read_csv(csv_path).values.tolist()"
   ]
  },
  {
   "cell_type": "code",
   "execution_count": null,
   "metadata": {},
   "outputs": [],
   "source": [
    "from scipy.interpolate import interp1d # scipyのモジュールを使う\n",
    "\n",
    "def spline_interp(in_x, in_y):\n",
    "    out_x = np.linspace(np.min(in_x), np.max(in_x), np.size(in_x)*100) # もとのxの個数より多いxを用意\n",
    "    func_spline = interp1d(in_x, in_y, kind='cubic') # cubicは3次のスプライン曲線\n",
    "    out_y = func_spline(out_x) # func_splineはscipyオリジナルの型\n",
    "\n",
    "    return out_x, out_y\n",
    "\n",
    "\n",
    "for image_landmark in data[0:5]:\n",
    "    fig, ax = plt.subplots(1)\n",
    "    ax.tick_params(labelbottom=False, labelleft=False, labelright=False, labeltop=False)\n",
    "    image_name = image_landmark[0]\n",
    "    \n",
    "    x_coordinates = image_landmark[1::2]\n",
    "    y_coordinates = image_landmark[2::2]\n",
    "    print(x_coordinates)\n",
    "    print(y_coordinates)\n",
    "    \n",
    "    \n",
    "\n",
    "    x_np = np.array(x_coordinates)\n",
    "    y_np = np.array(y_coordinates)\n",
    "     \n",
    "    x_np, x_np = spline_interp(x_np, y_np)\n",
    "    \n",
    "    # for i, txt in enumerate(x_np):\n",
    "    #     ax.annotate(i, (x_np[i], y_np[i]),color=\"blue\")\n",
    "    \n",
    "    # landmarks = list(zip(x_coordinates, y_coordinates))\n",
    "    \n",
    "    img = Image.open(f\"{dataset_img_path}/{image_name}\")\n",
    "    \n",
    "    ax.imshow(img) \n",
    "    \n",
    "    \n",
    "    plt.plot(x_np[0:17], y_np[0:17],color='red',markersize=3)  # 輪郭\n",
    "    \n",
    "    plt.plot(x_np[17], y_np[17],color='red',markersize=3)  # 瞳孔\n",
    "    plt.plot(x_np[18], y_np[18],color='red',markersize=3)  # 瞳孔\n",
    "    \n",
    "    plt.plot(x_np[19:29], y_np[19:29],color='red',markersize=3)  # 右目\n",
    "    plt.plot([x_np[19],x_np[28]], [y_np[19],y_np[28]],color='red',markersize=3)  # 右目\n",
    "    \n",
    "    plt.plot(x_np[29:39], y_np[29:39],color='red',markersize=3)  # 左目\n",
    "    plt.plot([x_np[29],x_np[38]], [y_np[29],y_np[38]],color='red',markersize=3)  # 左目\n",
    "    \n",
    "    plt.plot(x_np[39:44], y_np[39:44],color='red',markersize=3)  # 右眉\n",
    "    plt.plot(x_np[44:49], y_np[44:49],color='red',markersize=3)  # 左眉\n",
    "    \n",
    "    plt.plot(x_np[49], y_np[49], 'o',color='red',markersize=3)  # 鼻\n",
    "    \n",
    "    plt.plot(x_np[50:60], y_np[50:60],color='red',markersize=3)  # 口\n",
    "    plt.plot([x_np[50],x_np[59]], [y_np[50],y_np[59]],color='red',markersize=3) # 口\n",
    "    \n",
    "    \n",
    "    \n",
    "    \n",
    "    # plt.xlabel('x')\n",
    "    # plt.ylabel('y')\n",
    "    # plt.title('Coordinates')\n",
    "    # plt.grid(True)\n",
    "    # plt.gca().invert_yaxis()\n",
    "    \n",
    "    \n",
    "    # plt.savefig(\"line.png\")\n",
    "    \n",
    "    plt.show()\n",
    "    \n"
   ]
  },
  {
   "cell_type": "code",
   "execution_count": null,
   "metadata": {},
   "outputs": [],
   "source": []
  }
 ],
 "metadata": {
  "kernelspec": {
   "display_name": "Python 3",
   "language": "python",
   "name": "python3"
  },
  "language_info": {
   "codemirror_mode": {
    "name": "ipython",
    "version": 3
   },
   "file_extension": ".py",
   "mimetype": "text/x-python",
   "name": "python",
   "nbconvert_exporter": "python",
   "pygments_lexer": "ipython3",
   "version": "3.10.12"
  },
  "orig_nbformat": 4
 },
 "nbformat": 4,
 "nbformat_minor": 2
}
